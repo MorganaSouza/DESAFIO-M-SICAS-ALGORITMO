{
 "cells": [
  {
   "cell_type": "code",
   "execution_count": 1,
   "metadata": {},
   "outputs": [
    {
     "name": "stdout",
     "output_type": "stream",
     "text": [
      "5 foram passear, Além da montanha para brincar, A mamãe gritou: quá, quá, quá, quá 4 voltaram de lá\n",
      "4 foram passear, Além da montanha para brincar, A mamãe gritou: quá, quá, quá, quá 3 voltaram de lá\n",
      "3 foram passear, Além da montanha para brincar, A mamãe gritou: quá, quá, quá, quá 2 voltaram de lá\n",
      "2 foram passear, Além da montanha para brincar, A mamãe gritou: quá, quá, quá, quá 1 voltaram de lá\n",
      "1 foram passear, Além da montanha para brincar, A mamãe gritou: quá, quá, quá, quá 0 voltaram de lá\n"
     ]
    }
   ],
   "source": [
    "#DESAFIO: TRANSFORMANDO MÚSICA EM CODING\n",
    "# 5 PATINHOS\n",
    "\n",
    "for patos in [5,4,3,2,1]:\n",
    "    print(patos, \"foram passear, Além da montanha para brincar, A mamãe gritou: quá, quá, quá, quá\",patos-1, \"voltaram de lá\")"
   ]
  },
  {
   "cell_type": "code",
   "execution_count": 25,
   "metadata": {},
   "outputs": [
    {
     "name": "stdout",
     "output_type": "stream",
     "text": [
      "1 Elefante incomoda muita gente\n",
      "2 elefantes incomodam,incomodam, Muito mais\n",
      "3 Elefantes incomodam muita gente\n",
      "4 elefantes incomodam,incomodam,incomodam,incomodam, Muito mais\n",
      "5 Elefantes incomodam muita gente\n",
      "6 elefantes incomodam,incomodam,incomodam,incomodam,incomodam,incomodam, Muito mais\n",
      "7 Elefantes incomodam muita gente\n",
      "8 elefantes incomodam,incomodam,incomodam,incomodam,incomodam,incomodam,incomodam,incomodam, Muito mais\n",
      "9 Elefantes incomodam muita gente\n",
      "10 elefantes incomodam,incomodam,incomodam,incomodam,incomodam,incomodam,incomodam,incomodam,incomodam,incomodam, Muito mais\n"
     ]
    }
   ],
   "source": [
    "#ELEFANTES INCOMODAM\n",
    "\n",
    "incomadam = \"incomodam,\"\n",
    "for n in [1,2,3,4,5,6,7,8,9,10]:\n",
    "    if n == 1: print(n, \"Elefante incomoda muita gente\")\n",
    "    elif n % 2 == 0: print(n,\"elefantes\", incomadam * n , \"Muito mais\")\n",
    "    else: print(n, \"Elefantes incomodam muita gente\")"
   ]
  },
  {
   "cell_type": "code",
   "execution_count": 15,
   "metadata": {},
   "outputs": [
    {
     "name": "stdout",
     "output_type": "stream",
     "text": [
      "10 elefante incomodam muita gente\n",
      "9 elefantes incomodam incomodam incomodam incomodam incomodam incomodam incomodam incomodam incomodam  muito menos\n",
      "8 elefante incomodam muita gente\n",
      "7 elefantes incomodam incomodam incomodam incomodam incomodam incomodam incomodam  muito menos\n",
      "6 elefante incomodam muita gente\n",
      "5 elefantes incomodam incomodam incomodam incomodam incomodam  muito menos\n",
      "4 elefante incomodam muita gente\n",
      "3 elefantes incomodam incomodam incomodam  muito menos\n",
      "2 elefante incomodam muita gente\n",
      "1 elefantes incomodam  muito menos\n"
     ]
    }
   ],
   "source": [
    "#INVERTIDO\n",
    "\n",
    "for elefantes in [10,9,8,7,6,5,4,3,2,1]:\n",
    "    incomodam = \"incomodam \"\n",
    "    if elefantes % 2 != 0:\n",
    "     print(elefantes,\"elefantes\", elefantes * incomodam,\"muito menos\")\n",
    "   \n",
    "    elif elefantes == 1:\n",
    "     print(elefantes,\"elefante incomoda muito menos\")\n",
    " \n",
    "    else:\n",
    "     print(elefantes,\"elefante incomodam muita gente\")"
   ]
  },
  {
   "cell_type": "code",
   "execution_count": 39,
   "metadata": {},
   "outputs": [
    {
     "name": "stdout",
     "output_type": "stream",
     "text": [
      "Mariana conta 1 Mariana conta 1\n",
      "2 conta mariana,mariana, é\n",
      "3 conta mariana,mariana,mariana, é\n",
      "4 conta mariana,mariana,mariana,mariana, é\n",
      "5 conta mariana,mariana,mariana,mariana,mariana, é\n",
      "6 conta mariana,mariana,mariana,mariana,mariana,mariana, é\n",
      "7 conta mariana,mariana,mariana,mariana,mariana,mariana,mariana, é\n",
      "8 conta mariana,mariana,mariana,mariana,mariana,mariana,mariana,mariana, é\n",
      "9 conta mariana,mariana,mariana,mariana,mariana,mariana,mariana,mariana,mariana, é\n",
      "10 conta mariana,mariana,mariana,mariana,mariana,mariana,mariana,mariana,mariana,mariana, é\n"
     ]
    }
   ],
   "source": [
    "#MARIANA CONTA\n",
    "\n",
    "mariana = \"mariana,\"\n",
    "for n in [1,2,3,4,5,6,7,8,9,10]:\n",
    "    if n == 1: print(\"Mariana conta\", n, \"Mariana conta\", n)\n",
    "    elif n % 1 == 0: print(n,\"conta\", mariana * n , \"é\")\n",
    "    else: print(n, \"mariana conta\")"
   ]
  },
  {
   "cell_type": "code",
   "execution_count": 40,
   "metadata": {},
   "outputs": [
    {
     "name": "stdout",
     "output_type": "stream",
     "text": [
      "Mariana conta 1 Mariana conta 1 ana, viva a mariana\n",
      "Mariana conta 2 Mariana conta [1, 2]  ana, viva a mariana\n",
      "Mariana conta 3 Mariana conta [1, 2, 3]  ana, viva a mariana\n",
      "Mariana conta 4 Mariana conta [1, 2, 3, 4]  ana, viva a mariana\n",
      "Mariana conta 5 Mariana conta [1, 2, 3, 4, 5]  ana, viva a mariana\n",
      "Mariana conta 6 Mariana conta [1, 2, 3, 4, 5, 6]  ana, viva a mariana\n",
      "Mariana conta 7 Mariana conta [1, 2, 3, 4, 5, 6, 7]  ana, viva a mariana\n",
      "Mariana conta 8 Mariana conta [1, 2, 3, 4, 5, 6, 7, 8]  ana, viva a mariana\n",
      "Mariana conta 9 Mariana conta [1, 2, 3, 4, 5, 6, 7, 8, 9]  ana, viva a mariana\n",
      "Mariana conta 10 Mariana conta [1, 2, 3, 4, 5, 6, 7, 8, 9, 10]  ana, viva a mariana\n"
     ]
    }
   ],
   "source": [
    "marianaConta = [1,2,3,4,5,6,7,8,9,10]\n",
    "n= 1\n",
    "for n in marianaConta:\n",
    "    if n ==1:\n",
    "        print(\"Mariana conta\", (n), \"Mariana conta\", (n), \"ana, viva a mariana\")\n",
    "    else:\n",
    "        print(f\"Mariana conta\", (n), \"Mariana conta\", marianaConta[0:n], \" ana, viva a mariana\")"
   ]
  }
 ],
 "metadata": {
  "kernelspec": {
   "display_name": "Python 3",
   "language": "python",
   "name": "python3"
  },
  "language_info": {
   "codemirror_mode": {
    "name": "ipython",
    "version": 3
   },
   "file_extension": ".py",
   "mimetype": "text/x-python",
   "name": "python",
   "nbconvert_exporter": "python",
   "pygments_lexer": "ipython3",
   "version": "3.11.4"
  }
 },
 "nbformat": 4,
 "nbformat_minor": 2
}
